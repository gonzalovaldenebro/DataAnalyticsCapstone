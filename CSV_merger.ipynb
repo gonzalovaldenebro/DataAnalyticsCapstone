{
 "cells": [
  {
   "cell_type": "code",
   "execution_count": null,
   "metadata": {},
   "outputs": [],
   "source": [
    "import pandas as pd\n",
    "\n",
    "# create a list of the file names\n",
    "file_names = ['file1.csv', 'file2.csv', ..., 'file30.csv']"
   ]
  },
  {
   "attachments": {},
   "cell_type": "markdown",
   "metadata": {},
   "source": [
    "# define the column names\n",
    "column_names = ['Column A', 'Column B', 'Column C', ...]\n"
   ]
  },
  {
   "cell_type": "code",
   "execution_count": null,
   "metadata": {},
   "outputs": [],
   "source": [
    "# loop over the file names\n",
    "for file_name in file_names:\n",
    "    # read the CSV file into a data frame\n",
    "    df = pd.read_csv(file_name, header=None)\n",
    "      # assign the column names to the data frame\n",
    "    df.columns = column_names\n",
    "        # write the data frame back out to a CSV file\n",
    "    df.to_csv(file_name, index=False)"
   ]
  },
  {
   "cell_type": "code",
   "execution_count": null,
   "metadata": {},
   "outputs": [
    {
     "ename": "",
     "evalue": "",
     "output_type": "error",
     "traceback": [
      "\u001b[1;31mFailed to start the Kernel. \n",
      "\u001b[1;31mKernel Python 3.11.1 is not usable. Check the Jupyter output tab for more information. \n",
      "\u001b[1;31mView Jupyter <a href='command:jupyter.viewOutput'>log</a> for further details."
     ]
    }
   ],
   "source": [
    "import pandas as pd\n",
    "import glob\n",
    "\n",
    "path = r'/Users/gonzalovaldenebro/Library/CloudStorage/OneDrive-DrakeUniversity/STAT 190/Project 1/Data/Non_MergedData/Windspeed' # use your path\n",
    "all_files = glob.glob(path + \"/*.csv\")\n",
    "\n",
    "# define the column names\n",
    "column_names = ['TurbineName', 'TimeStamp', 'Date', 'MilesPerHour','MetricName']\n",
    "\n",
    "# loop over the file names\n",
    "for file_name in all_files:\n",
    "    # read the CSV file into a data frame\n",
    "    df = pd.read_csv(file_name, header=None)\n",
    "      # assign the column names to the data frame\n",
    "    df.columns = column_names\n",
    "        # write the data frame back out to a CSV file\n",
    "    df.to_csv(file_name, index=False)"
   ]
  }
 ],
 "metadata": {
  "kernelspec": {
   "display_name": "Python 3",
   "language": "python",
   "name": "python3"
  },
  "language_info": {
   "name": "python",
   "version": "3.11.1"
  },
  "orig_nbformat": 4,
  "vscode": {
   "interpreter": {
    "hash": "aee8b7b246df8f9039afb4144a1f6fd8d2ca17a180786b69acc140d282b71a49"
   }
  }
 },
 "nbformat": 4,
 "nbformat_minor": 2
}
